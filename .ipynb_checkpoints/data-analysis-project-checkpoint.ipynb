{
 "cells": [
  {
   "cell_type": "markdown",
   "metadata": {},
   "source": [
    "# Data Analysis Project 2018#   \n",
    " \n",
    "\n",
    "### The history of the box plot and situations in which it used ###  \n",
    "\n",
    "![boxplot](https://raw.githubusercontent.com/joanh3aly/GMIT-2-data-analysis-project/master/boxplot-1.png \"Boxplot\") *A diagram of a boxplot* [1]     \n",
    "\n",
    "John W. Tukey introduced the boxplot in 1969, and introduced it to statistics in his 1977 book, \"Exploratory Data Analysis\". [2][3] The boxplot or 'box and whisker plot' as it's sometimes called, is used to graphically depict groups of numerical data through their quartiles and percentiles. \n",
    "\n",
    "A quartile is a type of quantile; the 1st quartile is the middle number between the lowest number and the median of a dataset, the 2nd quartile is the median itself, and the 3rd quartile is the value between the median and the highest number of the dataset. [4] Quartiles can be used to rank the data values within a data set, ie: the top students in a class might be described as being part of the upper quartile. The top and bottom boundaries of the box in a boxplot are the upper quartile and lower quartile respectively. This is also known as the 'Interquartile Range' abbreviated to IQR. [2][4]  \n",
    "\n",
    "Percentiles indicate the value below which a given percentage of observations (or datapoints) in a given set of observations (aka dataset) falls. For instance the 20th percentile is the value below which 20% of observations in a dataset are found. Like the use of quartiles, percentiles are also used to rank the datapoints in a given population/dataset. For instance, if a student is ranked at the 90th percentile in his or her class, that student is better than 90% of the other students in the class. The 25th percentile is the 1st quartile, the 50th percentile is the median/ second quartile, and the 75th percentile is the 3rd quartile. [5]\n",
    "\n",
    "The lines that extend from the boxes in a box plot are known as 'whiskers', which indicate variability outside of the upper and lower quartiles. The space between the top and bottom of the whiskers demonstrates the dispersion or spread of the dataset. The ends of the whiskers often are used to visualise other statistical ranges, such as:\n",
    "- One standard deviation above and below the mean.  \n",
    "- The 9th and 91st percentile.  \n",
    "- The 2nd and 98th percentile.\n",
    "- The Tukey boxplot (where the lowest datum still within 1.5 IQR of the lower quartile, and the highest datum still within 1.5 IQR of the upper quartile). \n",
    "[1][5][6][7]\n",
    "\n",
    "Datapoints outside of these upper and lower whiskers are outliers of the dataset. Outliers are plotted as individual points or circles [1].      \n",
    "\n",
    "The use of boxplots allows us to visually estimate other statistics, such as the interquartile range (the range of data between the 25th and 75th percentile), the midhinge (the average of the first and third quartile), the range (the difference between the largest and smallest values), and the trimean (a probability distribution's location defined as a weighted average of the distribution's median and its two quartiles). [2][8]\n",
    "\n",
    "Boxplots are commonly used to represent demographic spreads to be used to influence marketing campaigns. Marketers could be interested in comparing the difference between how many men and women like a certain product, for instance. [9] Boxplots are also frequently used by financial traders to represent stocks. They could for example be used to display a stock's open, close, minimum and maximun value during a specific day. Several boxplots could be used to compare the performance of the stocks, which then influences a trader's buying decisions. [11]\n",
    "\n",
    "### Alternatives to the boxplot ###\n",
    "\n",
    "![Boxplot and a probability density function (pdf) of a Normal N(0,1σ2) Population](https://raw.githubusercontent.com/joanh3aly/GMIT-2-data-analysis-project/master/Boxplot_vs_PDF.png \"Boxplot and a probability density function (pdf) of a Normal N(0,1σ2) Population\") *Diagrams comparing Box plots to normal probability distributions * [6]\n",
    "\n",
    "Unlike probability distributions and histograms, boxplots cannot give a detailed visualisation of the distribition of the dataset (outside that of the quartiles). [11] When assumptions are correct, probability distributions are more accurate at prediction than non-parametric statistical models such as the box plot. This is because most parametric tests assume the underlying source populations to be normally distributed and assume that the standard deviation, mean etc of the distribution to be the same as a normal distribution. [12]  \n",
    "\n",
    "Kernal Density Estimation (KDE) is another alternative that allows you to create a smooth curve from a given a set of datapoints. It is a non-parametric method of estimating the probability density function of a given variable. KDEs can be useful for visualising the shape of the distribution of the data. [13]\n",
    "\n",
    "Despite its limitations, box plots are especially useful for indicating whether a distribution is skewed (if the length of the whiskers are uneven) and whether there are potential unusual observations (outliers) in the data set. [14] They also take up little space, and are useful for comparing distributions between several groups or sets of data."
   ]
  },
  {
   "cell_type": "code",
   "execution_count": 2,
   "metadata": {
    "collapsed": true
   },
   "outputs": [],
   "source": [
    "#import libraries\n",
    "import pandas as pd\n",
    "import numpy as np\n",
    "import seaborn as sns\n",
    "from scipy import stats\n",
    "import matplotlib as mpl \n",
    "import matplotlib.pyplot as plt\n",
    "#mpl.use('agg')\n",
    "\n",
    "%matplotlib inline"
   ]
  },
  {
   "cell_type": "markdown",
   "metadata": {},
   "source": [
    "### Demonstration of the boxplot using randomly generated data ###  \n",
    "The code below has been adapted from the \"Knowledge Stackpile\" website: http://blog.bharatbhole.com/creating-boxplots-with-matplotlib/ [15]"
   ]
  },
  {
   "cell_type": "code",
   "execution_count": 3,
   "metadata": {},
   "outputs": [
    {
     "data": {
      "image/png": "[encoded data removed]",
      "text/plain": [
       "<matplotlib.figure.Figure at 0x1a09f47b38>"
      ]
     },
     "metadata": {},
     "output_type": "display_data"
    }
   ],
   "source": [
    "np.random.seed(10)\n",
    "collectn_1 = np.random.normal(100, 20, 200)\n",
    "collectn_2 = np.random.normal(20, 30, 200)\n",
    "collectn_3 = np.random.normal(90, 20, 300)\n",
    "collectn_4 = np.random.normal(80, 15, 100)\n",
    "\n",
    "## combine these different collections into a list    \n",
    "data_to_plot = [ collectn_1, collectn_2, collectn_3, collectn_4]\n",
    "\n",
    "# Create a figure instance\n",
    "fig = plt.figure(1, figsize=(9, 6))\n",
    "\n",
    "# Create an axes instance\n",
    "ax = fig.add_subplot(111)\n",
    "\n",
    "## add patch_artist=True option to ax.boxplot() \n",
    "## to get fill color\n",
    "bp = ax.boxplot(data_to_plot, patch_artist=True)\n",
    "\n",
    "## change outline color, fill color and linewidth of the boxes\n",
    "for box in bp['boxes']:\n",
    "    # change outline color\n",
    "    box.set( color='#7570b3', linewidth=2)\n",
    "    # change fill color\n",
    "    box.set( facecolor = '#1b9e77' )\n",
    "\n",
    "## change color and linewidth of the whiskers\n",
    "for whisker in bp['whiskers']:\n",
    "    whisker.set(color='#7570b3', linewidth=2)\n",
    "\n",
    "## change color and linewidth of the caps\n",
    "for cap in bp['caps']:\n",
    "    cap.set(color='#7570b3', linewidth=2)\n",
    "\n",
    "## change color and linewidth of the medians\n",
    "for median in bp['medians']:\n",
    "    median.set(color='#b2df8a', linewidth=2)\n",
    "\n",
    "## change the style of fliers and their fill\n",
    "for flier in bp['fliers']:\n",
    "    flier.set(marker='o', color='#e7298a', alpha=0.5)\n",
    "\n",
    "\n",
    "# Create the boxplot\n",
    "bp = ax.boxplot(data_to_plot)\n",
    "\n",
    "## Custom x-axis labels\n",
    "ax.set_xticklabels(['Sample1', 'Sample2', 'Sample3', 'Sample4'])    \n",
    "\n",
    "## Remove top axes and right axes ticks\n",
    "ax.get_xaxis().tick_bottom()\n",
    "ax.get_yaxis().tick_left()\n",
    "    \n",
    "\n",
    "# Save the figure\n",
    "#fig.savefig('fig1.png', bbox_inches='tight')"
   ]
  },
  {
   "cell_type": "markdown",
   "metadata": {
    "collapsed": true
   },
   "source": [
    "## References ##\n",
    "\n",
    "1. https://towardsdatascience.com/understanding-boxplots-5e2df7bcbd51  \n",
    "2. https://www.worldcat.org/title/exploratory-data-analysis/oclc/3058187   \n",
    "3. https://physicstoday.scitation.org/doi/10.1063/1.1397408?journalCode=pto\n",
    "4. https://study.com/academy/lesson/upper-quartile-definition-formula.html    \n",
    "5. https://cnx.org/contents/223y7Xzw@12/Percentiles\n",
    "6. https://en.wikipedia.org/wiki/Box_plot  \n",
    "7. https://www.tandfonline.com/action/aboutThisJournal?journalCode=utas20\n",
    "8. https://www.thoughtco.com/what-is-the-midhinge-3126246\n",
    "9. https://marketingland.com/thinking-inside-the-boxplot-59615\n",
    "10. https://jpgraph.net/download/manuals/chunkhtml/ch15s04.html\n",
    "11. https://www.mathworks.com/help/stats/nonparametric-and-empirical-probability-distributions.html\n",
    "12. http://vassarstats.net/textbook/parametric.html\n",
    "13. https://mathisonian.github.io/kde/\n",
    "14. https://www.dummies.com/education/math/statistics/what-a-boxplot-can-tell-you-about-a-statistical-data-set/\n",
    "15. http://blog.bharatbhole.com/creating-boxplots-with-matplotlib/   "
   ]
  },
  {
   "cell_type": "code",
   "execution_count": null,
   "metadata": {
    "collapsed": true
   },
   "outputs": [],
   "source": []
  }
 ],
 "metadata": {
  "kernelspec": {
   "display_name": "Python 3",
   "language": "python",
   "name": "python3"
  },
  "language_info": {
   "codemirror_mode": {
    "name": "ipython",
    "version": 3
   },
   "file_extension": ".py",
   "mimetype": "text/x-python",
   "name": "python",
   "nbconvert_exporter": "python",
   "pygments_lexer": "ipython3",
   "version": "3.6.3"
  }
 },
 "nbformat": 4,
 "nbformat_minor": 2
}
