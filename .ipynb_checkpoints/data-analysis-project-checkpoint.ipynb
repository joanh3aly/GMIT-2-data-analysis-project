{
 "cells": [
  {
   "cell_type": "markdown",
   "metadata": {},
   "source": [
    "# Data Analyses Project 2018#   \n",
    " \n",
    "\n",
    "### The history of the box plot and situations in which it used ###  \n",
    "\n",
    "![boxplot](https://raw.githubusercontent.com/joanh3aly/GMIT-2-data-analysis-project/master/boxplot-1.png \"Boxplot\")[]     \n",
    "\n",
    "John W. Tukey introduced the boxplot in 1969, and introduced it to statistics in his 1977 book, \"Exploratory Data Analysis\". [] The boxplot or 'box and whisker plot' as it's sometimes called, is used to graphically depict groups of numerical data through their quartiles. A quartile is a type of quantile; the 1st quantile is the middle number between the lowest number and the median of a dataset, the 2nd quartile is the median itself, and the 3rd quartile is the value between the median and the highest number of the dataset. []\n",
    "\n",
    "Quartiles can be used to rank the data values within a data set, ie: the top students in a class might be described as being part of the upper quartile. The top and bottom boundaries of the box in a boxplot are the upper quartile and lower quartile respectively.   \n",
    "\n",
    "Percentiles indicate the value below which a given percentage of observations (or datapoints) in a given set of observations (aka dataset) falls. For instance the 20th percentile is the value below which 20% of observations in a dataset are found. Like the use of quartiles, percentiles are also used to rank the datapoints in a given population/dataset. For instance, if a student is ranked at the 90 percentile in his or her class, that student is better than 90% of the other students in the class. The 25th percentile is the 1st quartile, the 50th percentile is the median or second quartile, and the 75th percentile is the 3rd quartile. []\n",
    "\n",
    "The lines that extend from the boxes are known as 'whiskers' which indicate variability outside of the upper and lower quartiles. The space between the top and bottom of the whiskers demonstrates the dispersion or spread of the dataset. The ends of the whiskers often are used to visualise other statistical ranges, such as:\n",
    "- One standard deviation above and below the mean.  \n",
    "- The 9th and 91st percentile.  \n",
    "- The 2nd and 98th percentile.\n",
    "- The Tukey boxplot.\n",
    "\n",
    "Datapoints outside of these upper and lower whiskers are outliers of the dataset. Outliers are plotted as individual points.      \n",
    "\n",
    "The use of boxplots allows us to visually extimate other statistics, such as the interquartile range (the range of data between the 25th and 75th percentile), the midhinge (the average of the first and third quartile), the range (the difference between the largest and smallest values), and the trimean (a probability distribution's location defined as a weighted average of the distribution's median and its two quartiles). \n",
    "\n",
    "Boxplots are commonly used to represent demographic spreads to be used to influence marketing campaigns. Marketers could be interested in comparing the difference between how many men and women like a certain product, for instance. [] Boxplots are also frequently used by financial traders to represent stocks. They could for example be used to display a stock's open, close, minimum and maximun value during a specific day. Several boxplots could be used to compare the performance of the stocks, which then influences a traders buying decisions. []\n",
    "\n",
    "### Alternatives to the boxplot ###\n",
    "\n",
    "![Boxplot and a probability density function (pdf) of a Normal N(0,1σ2) Population](https://raw.githubusercontent.com/joanh3aly/GMIT-2-data-analysis-project/master/Boxplot_vs_PDF.png \"Boxplot and a probability density function (pdf) of a Normal N(0,1σ2) Population\") []\n",
    "\n",
    "Unlike probability distributions and histograms, boxplots are non-parametric, which means that they cannot give a detailed visualisation of the distribition of the dataset (outside that of the quartiles). However they are especially useful for indicating whether a distribution is skewed and whether there are potential unusual observations (outliers) in the data set. [] They show the variability or dispersion of the data in the dataset. [] They also take up little space, and are useful for comparing distributions between several groups or sets of data.\n",
    "\n",
    "Histogram kernal density estimate.[]\n"
   ]
  },
  {
   "cell_type": "code",
   "execution_count": 4,
   "metadata": {
    "collapsed": true
   },
   "outputs": [],
   "source": [
    "#import libraries\n",
    "import pandas as pd\n",
    "import numpy as np\n",
    "import seaborn as sns\n",
    "from scipy import stats\n",
    "import matplotlib as mpl \n",
    "import matplotlib.pyplot as plt\n",
    "#mpl.use('agg')\n",
    "\n",
    "%matplotlib inline"
   ]
  },
  {
   "cell_type": "code",
   "execution_count": 6,
   "metadata": {
    "collapsed": true
   },
   "outputs": [],
   "source": [
    "#http://blog.bharatbhole.com/creating-boxplots-with-matplotlib/"
   ]
  },
  {
   "cell_type": "code",
   "execution_count": 42,
   "metadata": {},
   "outputs": [
    {
     "data": {
      "text/html": [
       "<div>\n",
       "<style scoped>\n",
       "    .dataframe tbody tr th:only-of-type {\n",
       "        vertical-align: middle;\n",
       "    }\n",
       "\n",
       "    .dataframe tbody tr th {\n",
       "        vertical-align: top;\n",
       "    }\n",
       "\n",
       "    .dataframe thead th {\n",
       "        text-align: right;\n",
       "    }\n",
       "</style>\n",
       "<table border=\"1\" class=\"dataframe\">\n",
       "  <thead>\n",
       "    <tr style=\"text-align: right;\">\n",
       "      <th></th>\n",
       "      <th>country</th>\n",
       "      <th>year</th>\n",
       "      <th>pop</th>\n",
       "      <th>continent</th>\n",
       "      <th>lifeExp</th>\n",
       "      <th>gdpPercap</th>\n",
       "    </tr>\n",
       "  </thead>\n",
       "  <tbody>\n",
       "    <tr>\n",
       "      <th>0</th>\n",
       "      <td>Afghanistan</td>\n",
       "      <td>1952</td>\n",
       "      <td>8425333.0</td>\n",
       "      <td>Asia</td>\n",
       "      <td>28.801</td>\n",
       "      <td>779.445314</td>\n",
       "    </tr>\n",
       "    <tr>\n",
       "      <th>1</th>\n",
       "      <td>Afghanistan</td>\n",
       "      <td>1957</td>\n",
       "      <td>9240934.0</td>\n",
       "      <td>Asia</td>\n",
       "      <td>30.332</td>\n",
       "      <td>820.853030</td>\n",
       "    </tr>\n",
       "    <tr>\n",
       "      <th>2</th>\n",
       "      <td>Afghanistan</td>\n",
       "      <td>1962</td>\n",
       "      <td>10267083.0</td>\n",
       "      <td>Asia</td>\n",
       "      <td>31.997</td>\n",
       "      <td>853.100710</td>\n",
       "    </tr>\n",
       "    <tr>\n",
       "      <th>3</th>\n",
       "      <td>Afghanistan</td>\n",
       "      <td>1967</td>\n",
       "      <td>11537966.0</td>\n",
       "      <td>Asia</td>\n",
       "      <td>34.020</td>\n",
       "      <td>836.197138</td>\n",
       "    </tr>\n",
       "    <tr>\n",
       "      <th>4</th>\n",
       "      <td>Afghanistan</td>\n",
       "      <td>1972</td>\n",
       "      <td>13079460.0</td>\n",
       "      <td>Asia</td>\n",
       "      <td>36.088</td>\n",
       "      <td>739.981106</td>\n",
       "    </tr>\n",
       "  </tbody>\n",
       "</table>\n",
       "</div>"
      ],
      "text/plain": [
       "       country  year         pop continent  lifeExp   gdpPercap\n",
       "0  Afghanistan  1952   8425333.0      Asia   28.801  779.445314\n",
       "1  Afghanistan  1957   9240934.0      Asia   30.332  820.853030\n",
       "2  Afghanistan  1962  10267083.0      Asia   31.997  853.100710\n",
       "3  Afghanistan  1967  11537966.0      Asia   34.020  836.197138\n",
       "4  Afghanistan  1972  13079460.0      Asia   36.088  739.981106"
      ]
     },
     "execution_count": 42,
     "metadata": {},
     "output_type": "execute_result"
    }
   ],
   "source": [
    "df = pd.read_csv(\"https://raw.githubusercontent.com/joanh3aly/GMIT-2-programming-project/master/gapminder.csv\")\n",
    "df.head()"
   ]
  },
  {
   "cell_type": "markdown",
   "metadata": {},
   "source": [
    "### Demonstration of the boxplot using randomly generated data ###"
   ]
  },
  {
   "cell_type": "code",
   "execution_count": 3,
   "metadata": {},
   "outputs": [
    {
     "data": {
      "image/png": "[encoded data removed]",
      "text/plain": [
       "<matplotlib.figure.Figure at 0x10c7d9b38>"
      ]
     },
     "metadata": {},
     "output_type": "display_data"
    }
   ],
   "source": [
    "np.random.seed(10)\n",
    "collectn_1 = np.random.normal(100, 10, 200)\n",
    "collectn_2 = np.random.normal(80, 30, 200)\n",
    "collectn_3 = np.random.normal(90, 20, 200)\n",
    "collectn_4 = np.random.normal(70, 25, 200)\n",
    "\n",
    "#collection = df.loc[df['continent']=='Europe']\n",
    "#collection['pop'] = collection['pop'].astype(int)\n",
    "#collection['lifeExp'] = collection['lifeExp'].astype(int)\n",
    "#collection['gdpPercap'] = collection['gdpPercap'].astype(int)\n",
    "#collection['year'] = collection['year'].astype(int)\n",
    "#print(collection['lifeExp'])\n",
    "\n",
    "## combine these different collections into a list    \n",
    "#data_to_plot = [ collection['lifeExp'], collection['gdpPercap'], collection['year']]\n",
    "data_to_plot = [ collectn_1, collectn_2, collectn_3, collectn_4]\n",
    "\n",
    "# Create a figure instance\n",
    "fig = plt.figure(1, figsize=(9, 6))\n",
    "\n",
    "# Create an axes instance\n",
    "ax = fig.add_subplot(111)\n",
    "\n",
    "## add patch_artist=True option to ax.boxplot() \n",
    "## to get fill color\n",
    "bp = ax.boxplot(data_to_plot, patch_artist=True)\n",
    "\n",
    "## change outline color, fill color and linewidth of the boxes\n",
    "for box in bp['boxes']:\n",
    "    # change outline color\n",
    "    box.set( color='#7570b3', linewidth=2)\n",
    "    # change fill color\n",
    "    box.set( facecolor = '#1b9e77' )\n",
    "\n",
    "## change color and linewidth of the whiskers\n",
    "for whisker in bp['whiskers']:\n",
    "    whisker.set(color='#7570b3', linewidth=2)\n",
    "\n",
    "## change color and linewidth of the caps\n",
    "for cap in bp['caps']:\n",
    "    cap.set(color='#7570b3', linewidth=2)\n",
    "\n",
    "## change color and linewidth of the medians\n",
    "for median in bp['medians']:\n",
    "    median.set(color='#b2df8a', linewidth=2)\n",
    "\n",
    "## change the style of fliers and their fill\n",
    "for flier in bp['fliers']:\n",
    "    flier.set(marker='o', color='#e7298a', alpha=0.5)\n",
    "\n",
    "\n",
    "# Create the boxplot\n",
    "bp = ax.boxplot(data_to_plot)\n",
    "\n",
    "## Custom x-axis labels\n",
    "ax.set_xticklabels(['Sample1', 'Sample2', 'Sample3', 'Sample4'])    \n",
    "\n",
    "## Remove top axes and right axes ticks\n",
    "ax.get_xaxis().tick_bottom()\n",
    "ax.get_yaxis().tick_left()\n",
    "    \n",
    "\n",
    "# Save the figure\n",
    "#fig.savefig('fig1.png', bbox_inches='tight')"
   ]
  },
  {
   "cell_type": "markdown",
   "metadata": {
    "collapsed": true
   },
   "source": [
    "## References ##\n",
    "\n",
    "https://www.worldcat.org/title/exploratory-data-analysis/oclc/3058187    \n",
    "https://study.com/academy/lesson/upper-quartile-definition-formula.html    \n",
    "https://towardsdatascience.com/understanding-boxplots-5e2df7bcbd51  \n",
    "https://en.wikipedia.org/wiki/Percentile    \n",
    "https://en.wikipedia.org/wiki/Box_plot  \n",
    "https://en.wikipedia.org/wiki/Trimean  \n",
    "https://marketingland.com/thinking-inside-the-boxplot-59615\n",
    "https://jpgraph.net/download/manuals/chunkhtml/ch15s04.html\n",
    "https://en.wikipedia.org/wiki/Nonparametric_statistics    \n",
    "http://blog.bharatbhole.com/creating-boxplots-with-matplotlib/   "
   ]
  },
  {
   "cell_type": "code",
   "execution_count": null,
   "metadata": {
    "collapsed": true
   },
   "outputs": [],
   "source": []
  }
 ],
 "metadata": {
  "kernelspec": {
   "display_name": "Python 3",
   "language": "python",
   "name": "python3"
  },
  "language_info": {
   "codemirror_mode": {
    "name": "ipython",
    "version": 3
   },
   "file_extension": ".py",
   "mimetype": "text/x-python",
   "name": "python",
   "nbconvert_exporter": "python",
   "pygments_lexer": "ipython3",
   "version": "3.6.3"
  }
 },
 "nbformat": 4,
 "nbformat_minor": 2
}
